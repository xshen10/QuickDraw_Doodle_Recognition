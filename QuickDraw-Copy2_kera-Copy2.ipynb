{
 "cells": [
  {
   "cell_type": "code",
   "execution_count": 1,
   "metadata": {},
   "outputs": [],
   "source": [
    "import pandas as pd\n",
    "import numpy as np\n",
    "import matplotlib.pyplot as plt\n",
    "import ast\n",
    "import os\n",
    "from glob import glob\n",
    "from dask import bag\n",
    "from PIL import Image, ImageDraw\n",
    "import tensorflow as tf\n",
    "from tqdm import tqdm\n",
    "from tensorflow.python.framework import ops\n",
    "import math\n",
    "import random as rn\n",
    "\n",
    "%matplotlib inline"
   ]
  },
  {
   "cell_type": "code",
   "execution_count": 2,
   "metadata": {},
   "outputs": [
    {
     "name": "stderr",
     "output_type": "stream",
     "text": [
      "Using TensorFlow backend.\n"
     ]
    }
   ],
   "source": [
    "np.random.seed(1337)\n",
    "rn.seed(123)\n",
    "tf.set_random_seed(1234)\n",
    "\n",
    "from keras import backend as K\n",
    "session_conf = tf.ConfigProto(intra_op_parallelism_threads=1,\n",
    "                              inter_op_parallelism_threads=1)\n",
    "sess = tf.Session(graph=tf.get_default_graph(), config=session_conf)\n",
    "K.set_session(sess)"
   ]
  },
  {
   "cell_type": "code",
   "execution_count": 3,
   "metadata": {},
   "outputs": [],
   "source": [
    "from keras.utils import to_categorical\n",
    "from keras.models import Sequential\n",
    "from keras.layers import Dense, Activation, Conv2D, MaxPooling2D, Flatten, Dropout\n",
    "from keras import optimizers, losses\n",
    "from keras.callbacks import History \n",
    "history = History()"
   ]
  },
  {
   "cell_type": "code",
   "execution_count": null,
   "metadata": {},
   "outputs": [],
   "source": [
    "fnames = glob('/home/ubuntu/kaggle/data/*.csv')\n",
    "cnames = ['countrycode', 'drawing', 'key_id', 'recognized', 'timestamp', 'word']\n",
    "\n",
    "#rename the file, replacing space\n",
    "classfiles = os.listdir('/home/ubuntu/kaggle/data')\n",
    "numstonames = {i: v[:-4].replace(\" \", \"_\") for i, v in enumerate(classfiles)}"
   ]
  },
  {
   "cell_type": "code",
   "execution_count": null,
   "metadata": {},
   "outputs": [],
   "source": [
    "#combine all csv files into one, adding label column\n",
    "for i,c in tqdm(enumerate(fnames)):\n",
    "    df = pd.read_csv(c)\n",
    "    if i==0:\n",
    "        df = pd.read_csv(fnames[i])\n",
    "        df['label'] = i\n",
    "        df.to_csv(outfile, index=False, header=False)\n",
    "    else:\n",
    "        df = pd.read_csv(fnames[i])\n",
    "        df['label'] = i\n",
    "        with open(outfile) as f:\n",
    "            df.to_csv(outfile, mode='a', header=False, index=False)"
   ]
  },
  {
   "cell_type": "code",
   "execution_count": null,
   "metadata": {},
   "outputs": [],
   "source": [
    "#output file and shuffled using command line\n",
    "#shuf -o outfile < outfile\n",
    "outfile='/dev/shm/all_data.csv'"
   ]
  },
  {
   "cell_type": "code",
   "execution_count": 4,
   "metadata": {},
   "outputs": [],
   "source": [
    "all_data='~/kaggle/data/all_data.csv'\n",
    "\n",
    "#with open(outfile) as f:\n",
    "#    data_len = (np.sum([1 for line in f.readlines()]))\n",
    "data_len =  49707579\n",
    "imheight = 128\n",
    "imwidth = 128"
   ]
  },
  {
   "cell_type": "code",
   "execution_count": 5,
   "metadata": {},
   "outputs": [],
   "source": [
    "input_shape = (imheight, imwidth, 1)\n",
    "num_classes = 340"
   ]
  },
  {
   "cell_type": "code",
   "execution_count": 6,
   "metadata": {},
   "outputs": [],
   "source": [
    "def make_data_from_chunk(chunk, num_classes=20):\n",
    "    chunk.columns = ['drawing', 'recognized', 'label_text','label']\n",
    "    chunk = chunk[chunk.recognized == True]\n",
    "    chunk = chunk[chunk['label'] <= num_classes-1]\n",
    "    x_array = np.array([draw_it(v) for v in chunk['drawing'].values]).reshape(-1,imheight,imwidth,1)\n",
    "    y_array = to_categorical(chunk['label'].values.reshape(-1,1), num_classes=num_classes)\n",
    "    return x_array, y_array"
   ]
  },
  {
   "cell_type": "code",
   "execution_count": 7,
   "metadata": {},
   "outputs": [],
   "source": [
    "#convert stroke to image\n",
    "def draw_it(strokes):\n",
    "    image = Image.new(\"P\", (256,256), color=255)\n",
    "    image_draw = ImageDraw.Draw(image)\n",
    "    for stroke in ast.literal_eval(strokes):\n",
    "        for i in range(len(stroke[0])-1):\n",
    "            image_draw.line([stroke[0][i], \n",
    "                             stroke[1][i],\n",
    "                             stroke[0][i+1], \n",
    "                             stroke[1][i+1]],\n",
    "                            fill=0, width=5)\n",
    "    image = image.resize((imheight, imwidth))\n",
    "    return np.array(image)/255."
   ]
  },
  {
   "cell_type": "code",
   "execution_count": 8,
   "metadata": {},
   "outputs": [
    {
     "name": "stdout",
     "output_type": "stream",
     "text": [
      "2485\n",
      "(2485, 4)\n",
      "(2260, 128, 128, 1) (2260, 340)\n"
     ]
    }
   ],
   "source": [
    "val_frac = 5e-5\n",
    "num_val = int(data_len * val_frac)\n",
    "print(num_val)\n",
    "    \n",
    "val_chunk = pd.read_csv(all_data, usecols=[1,3,5,6], nrows= num_val, header=None)\n",
    "print(val_chunk.shape)\n",
    "x_val, y_val = make_data_from_chunk(val_chunk, num_classes=num_classes)\n",
    "\n",
    "print(x_val.shape, y_val.shape)"
   ]
  },
  {
   "cell_type": "code",
   "execution_count": 43,
   "metadata": {},
   "outputs": [
    {
     "name": "stdout",
     "output_type": "stream",
     "text": [
      "(2260, 128, 128, 1) (2485, 4)\n"
     ]
    },
    {
     "data": {
      "image/png": "[encoded data removed]",
      "text/plain": [
       "<Figure size 432x288 with 1 Axes>"
      ]
     },
     "metadata": {},
     "output_type": "display_data"
    }
   ],
   "source": [
    "sample_n = 210\n",
    "x_im = x_val[sample_n,:,:,0]\n",
    "print (x_val.shape, val_chunk.shape)\n",
    "plt.imshow(x_im)\n",
    "plt.title(np.argmax(y_val, axis=1)[sample_n])\n",
    "plt.show()"
   ]
  },
  {
   "cell_type": "code",
   "execution_count": 47,
   "metadata": {},
   "outputs": [
    {
     "name": "stdout",
     "output_type": "stream",
     "text": [
      "340\n"
     ]
    },
    {
     "data": {
      "image/png": "[encoded data removed]",
      "text/plain": [
       "<Figure size 432x288 with 1 Axes>"
      ]
     },
     "metadata": {},
     "output_type": "display_data"
    },
    {
     "data": {
      "image/png": "[encoded data removed]",
      "text/plain": [
       "<Figure size 432x288 with 1 Axes>"
      ]
     },
     "metadata": {},
     "output_type": "display_data"
    },
    {
     "data": {
      "image/png": "[encoded data removed]",
      "text/plain": [
       "<Figure size 432x288 with 1 Axes>"
      ]
     },
     "metadata": {},
     "output_type": "display_data"
    },
    {
     "data": {
      "image/png": "[encoded data removed]",
      "text/plain": [
       "<Figure size 432x288 with 1 Axes>"
      ]
     },
     "metadata": {},
     "output_type": "display_data"
    },
    {
     "ename": "TypeError",
     "evalue": "Invalid dimensions for image data",
     "output_type": "error",
     "traceback": [
      "\u001b[0;31m---------------------------------------------------------------------------\u001b[0m",
      "\u001b[0;31mTypeError\u001b[0m                                 Traceback (most recent call last)",
      "\u001b[0;32m<ipython-input-47-2ad9b82036ad>\u001b[0m in \u001b[0;36m<module>\u001b[0;34m()\u001b[0m\n\u001b[1;32m     16\u001b[0m             \u001b[0mplt\u001b[0m\u001b[0;34m.\u001b[0m\u001b[0mshow\u001b[0m\u001b[0;34m(\u001b[0m\u001b[0;34m)\u001b[0m\u001b[0;34m\u001b[0m\u001b[0m\n\u001b[1;32m     17\u001b[0m \u001b[0;34m\u001b[0m\u001b[0m\n\u001b[0;32m---> 18\u001b[0;31m \u001b[0mimgplot\u001b[0m \u001b[0;34m=\u001b[0m \u001b[0mplt\u001b[0m\u001b[0;34m.\u001b[0m\u001b[0mimshow\u001b[0m\u001b[0;34m(\u001b[0m\u001b[0mx\u001b[0m\u001b[0;34m)\u001b[0m\u001b[0;34m\u001b[0m\u001b[0m\n\u001b[0m\u001b[1;32m     19\u001b[0m \u001b[0mplt\u001b[0m\u001b[0;34m.\u001b[0m\u001b[0mshow\u001b[0m\u001b[0;34m(\u001b[0m\u001b[0;34m)\u001b[0m\u001b[0;34m\u001b[0m\u001b[0m\n\u001b[1;32m     20\u001b[0m \u001b[0mtest_chunk\u001b[0m\u001b[0;34m[\u001b[0m\u001b[0;34m'label_text'\u001b[0m\u001b[0;34m]\u001b[0m\u001b[0;34m[\u001b[0m\u001b[0msample_n\u001b[0m\u001b[0;34m]\u001b[0m\u001b[0;34m\u001b[0m\u001b[0m\n",
      "\u001b[0;32m~/anaconda3/envs/tensorflow_p36/lib/python3.6/site-packages/matplotlib/pyplot.py\u001b[0m in \u001b[0;36mimshow\u001b[0;34m(X, cmap, norm, aspect, interpolation, alpha, vmin, vmax, origin, extent, shape, filternorm, filterrad, imlim, resample, url, hold, data, **kwargs)\u001b[0m\n\u001b[1;32m   3203\u001b[0m                         \u001b[0mfilternorm\u001b[0m\u001b[0;34m=\u001b[0m\u001b[0mfilternorm\u001b[0m\u001b[0;34m,\u001b[0m \u001b[0mfilterrad\u001b[0m\u001b[0;34m=\u001b[0m\u001b[0mfilterrad\u001b[0m\u001b[0;34m,\u001b[0m\u001b[0;34m\u001b[0m\u001b[0m\n\u001b[1;32m   3204\u001b[0m                         \u001b[0mimlim\u001b[0m\u001b[0;34m=\u001b[0m\u001b[0mimlim\u001b[0m\u001b[0;34m,\u001b[0m \u001b[0mresample\u001b[0m\u001b[0;34m=\u001b[0m\u001b[0mresample\u001b[0m\u001b[0;34m,\u001b[0m \u001b[0murl\u001b[0m\u001b[0;34m=\u001b[0m\u001b[0murl\u001b[0m\u001b[0;34m,\u001b[0m \u001b[0mdata\u001b[0m\u001b[0;34m=\u001b[0m\u001b[0mdata\u001b[0m\u001b[0;34m,\u001b[0m\u001b[0;34m\u001b[0m\u001b[0m\n\u001b[0;32m-> 3205\u001b[0;31m                         **kwargs)\n\u001b[0m\u001b[1;32m   3206\u001b[0m     \u001b[0;32mfinally\u001b[0m\u001b[0;34m:\u001b[0m\u001b[0;34m\u001b[0m\u001b[0m\n\u001b[1;32m   3207\u001b[0m         \u001b[0max\u001b[0m\u001b[0;34m.\u001b[0m\u001b[0m_hold\u001b[0m \u001b[0;34m=\u001b[0m \u001b[0mwashold\u001b[0m\u001b[0;34m\u001b[0m\u001b[0m\n",
      "\u001b[0;32m~/anaconda3/envs/tensorflow_p36/lib/python3.6/site-packages/matplotlib/__init__.py\u001b[0m in \u001b[0;36minner\u001b[0;34m(ax, *args, **kwargs)\u001b[0m\n\u001b[1;32m   1853\u001b[0m                         \u001b[0;34m\"the Matplotlib list!)\"\u001b[0m \u001b[0;34m%\u001b[0m \u001b[0;34m(\u001b[0m\u001b[0mlabel_namer\u001b[0m\u001b[0;34m,\u001b[0m \u001b[0mfunc\u001b[0m\u001b[0;34m.\u001b[0m\u001b[0m__name__\u001b[0m\u001b[0;34m)\u001b[0m\u001b[0;34m,\u001b[0m\u001b[0;34m\u001b[0m\u001b[0m\n\u001b[1;32m   1854\u001b[0m                         RuntimeWarning, stacklevel=2)\n\u001b[0;32m-> 1855\u001b[0;31m             \u001b[0;32mreturn\u001b[0m \u001b[0mfunc\u001b[0m\u001b[0;34m(\u001b[0m\u001b[0max\u001b[0m\u001b[0;34m,\u001b[0m \u001b[0;34m*\u001b[0m\u001b[0margs\u001b[0m\u001b[0;34m,\u001b[0m \u001b[0;34m**\u001b[0m\u001b[0mkwargs\u001b[0m\u001b[0;34m)\u001b[0m\u001b[0;34m\u001b[0m\u001b[0m\n\u001b[0m\u001b[1;32m   1856\u001b[0m \u001b[0;34m\u001b[0m\u001b[0m\n\u001b[1;32m   1857\u001b[0m         inner.__doc__ = _add_data_doc(inner.__doc__,\n",
      "\u001b[0;32m~/anaconda3/envs/tensorflow_p36/lib/python3.6/site-packages/matplotlib/axes/_axes.py\u001b[0m in \u001b[0;36mimshow\u001b[0;34m(self, X, cmap, norm, aspect, interpolation, alpha, vmin, vmax, origin, extent, shape, filternorm, filterrad, imlim, resample, url, **kwargs)\u001b[0m\n\u001b[1;32m   5485\u001b[0m                               resample=resample, **kwargs)\n\u001b[1;32m   5486\u001b[0m \u001b[0;34m\u001b[0m\u001b[0m\n\u001b[0;32m-> 5487\u001b[0;31m         \u001b[0mim\u001b[0m\u001b[0;34m.\u001b[0m\u001b[0mset_data\u001b[0m\u001b[0;34m(\u001b[0m\u001b[0mX\u001b[0m\u001b[0;34m)\u001b[0m\u001b[0;34m\u001b[0m\u001b[0m\n\u001b[0m\u001b[1;32m   5488\u001b[0m         \u001b[0mim\u001b[0m\u001b[0;34m.\u001b[0m\u001b[0mset_alpha\u001b[0m\u001b[0;34m(\u001b[0m\u001b[0malpha\u001b[0m\u001b[0;34m)\u001b[0m\u001b[0;34m\u001b[0m\u001b[0m\n\u001b[1;32m   5489\u001b[0m         \u001b[0;32mif\u001b[0m \u001b[0mim\u001b[0m\u001b[0;34m.\u001b[0m\u001b[0mget_clip_path\u001b[0m\u001b[0;34m(\u001b[0m\u001b[0;34m)\u001b[0m \u001b[0;32mis\u001b[0m \u001b[0;32mNone\u001b[0m\u001b[0;34m:\u001b[0m\u001b[0;34m\u001b[0m\u001b[0m\n",
      "\u001b[0;32m~/anaconda3/envs/tensorflow_p36/lib/python3.6/site-packages/matplotlib/image.py\u001b[0m in \u001b[0;36mset_data\u001b[0;34m(self, A)\u001b[0m\n\u001b[1;32m    651\u001b[0m         if not (self._A.ndim == 2\n\u001b[1;32m    652\u001b[0m                 or self._A.ndim == 3 and self._A.shape[-1] in [3, 4]):\n\u001b[0;32m--> 653\u001b[0;31m             \u001b[0;32mraise\u001b[0m \u001b[0mTypeError\u001b[0m\u001b[0;34m(\u001b[0m\u001b[0;34m\"Invalid dimensions for image data\"\u001b[0m\u001b[0;34m)\u001b[0m\u001b[0;34m\u001b[0m\u001b[0m\n\u001b[0m\u001b[1;32m    654\u001b[0m \u001b[0;34m\u001b[0m\u001b[0m\n\u001b[1;32m    655\u001b[0m         \u001b[0;32mif\u001b[0m \u001b[0mself\u001b[0m\u001b[0;34m.\u001b[0m\u001b[0m_A\u001b[0m\u001b[0;34m.\u001b[0m\u001b[0mndim\u001b[0m \u001b[0;34m==\u001b[0m \u001b[0;36m3\u001b[0m\u001b[0;34m:\u001b[0m\u001b[0;34m\u001b[0m\u001b[0m\n",
      "\u001b[0;31mTypeError\u001b[0m: Invalid dimensions for image data"
     ]
    },
    {
     "data": {
      "image/png": "[encoded data removed]",
      "text/plain": [
       "<Figure size 432x288 with 1 Axes>"
      ]
     },
     "metadata": {},
     "output_type": "display_data"
    }
   ],
   "source": [
    "#plot some images; two images per class\n",
    "import matplotlib.pyplot as plt\n",
    "sample_n = 6\n",
    "df = val_chunk\n",
    "labels = df['label_text'].drop_duplicates().values\n",
    "print (len(labels))\n",
    "for label in labels[0:2]:\n",
    "    idx = df['label_text'] == label\n",
    "    n_label = df[idx].shape[0]\n",
    "    label_chunk = df[idx]\n",
    "    x, _ = make_data_from_chunk(label_chunk, num_classes=340)\n",
    "    for i in range(x.shape[0]):\n",
    "        if i < 2:\n",
    "            x_im = x[i,:,:,0]\n",
    "            plt.imshow(x_im)\n",
    "            plt.title(label)\n",
    "            plt.show()"
   ]
  },
  {
   "cell_type": "code",
   "execution_count": 9,
   "metadata": {},
   "outputs": [],
   "source": [
    "def cnn_model():\n",
    "    model = Sequential()\n",
    "    \n",
    "    model.add(Conv2D(16, kernel_size=(7, 7), strides=(2, 2), activation='relu', input_shape=input_shape, padding='same'))\n",
    "    model.add(Conv2D(32, (7, 7), strides=(2,2),activation='relu', padding='same'))\n",
    "    model.add(MaxPooling2D(pool_size=(3, 3), strides=(2, 2)))\n",
    "\n",
    "    model.add(Conv2D(64, (3, 3), activation='relu', padding='same'))\n",
    "    model.add(Conv2D(96, (3, 3), activation='relu', padding='same'))\n",
    "    model.add(MaxPooling2D(pool_size=(3, 3), strides=(2, 2)))\n",
    "\n",
    "    model.add(Conv2D(128, (3, 3), activation='relu', padding='same'))\n",
    "    model.add(Conv2D(256, (3, 3), activation='relu', padding='same'))\n",
    "    model.add(Conv2D(512, (3, 3), activation='relu', padding='same'))\n",
    "    model.add(MaxPooling2D(pool_size=(3, 3), strides=(2, 2)))\n",
    "\n",
    "    model.add(Flatten())\n",
    "    #model.add(Dense(250, activation='relu'))\n",
    "    model.add(Dense(num_classes, activation='softmax'))\n",
    "    return model"
   ]
  },
  {
   "cell_type": "code",
   "execution_count": null,
   "metadata": {
    "scrolled": true
   },
   "outputs": [],
   "source": [
    "# Exploring different learning rate\n",
    "dictionary_list = []\n",
    "for k in range(20):\n",
    "    learning_rate = 2*10**(-np.random.rand()-2) #0.001-0.01\n",
    "    print(\"learning_rate: \" + str(learning_rate))\n",
    "    model = cnn_model()\n",
    "    model.compile(loss=losses.categorical_crossentropy,\n",
    "          optimizer=optimizers.adam(lr=learning_rate, decay=0),\n",
    "          metrics=['accuracy'])\n",
    "    \n",
    "    chunks = pd.read_csv(all_data, usecols=[1,3,5,6], header=None, chunksize=chunksize, skiprows=num_test)\n",
    "    for i, chunk in enumerate(chunks):\n",
    "        print(\"chunk\" + str(i))\n",
    "        x_train, y_train = make_data_from_chunk(chunk, num_classes=num_classes)\n",
    "        model.fit(x_train, y_train,\n",
    "              batch_size=batch_size, epochs=epochs, verbose=1, validation_data=(x_test, y_test), shuffle=False, )\n",
    "        d = model.history.history\n",
    "        d = {k:v[0] for k,v in d.items() if k not in ['chunk_n', 'learning_rate']}\n",
    "        d1 = {\"chunk_n\": i, \"learning_rate\": learning_rate}\n",
    "        d.update(d1)\n",
    "        dictionary_list.append(d)\n",
    "        if i == 4:\n",
    "            print('\\n')\n",
    "            break"
   ]
  },
  {
   "cell_type": "code",
   "execution_count": null,
   "metadata": {},
   "outputs": [],
   "source": [
    "df = pd.DataFrame(dictionary_list)"
   ]
  },
  {
   "cell_type": "code",
   "execution_count": null,
   "metadata": {},
   "outputs": [],
   "source": [
    "df.sort_values('val_acc', ascending=False)"
   ]
  },
  {
   "cell_type": "code",
   "execution_count": 19,
   "metadata": {},
   "outputs": [],
   "source": [
    "df.to_csv('~/kaggle/cnn_lr0.001_ES.csv', index=False)"
   ]
  },
  {
   "cell_type": "code",
   "execution_count": 27,
   "metadata": {},
   "outputs": [],
   "source": [
    "batch_size = 512\n",
    "learning_rate = 0.00002\n",
    "chunksize = 100000"
   ]
  },
  {
   "cell_type": "code",
   "execution_count": 18,
   "metadata": {},
   "outputs": [
    {
     "name": "stdout",
     "output_type": "stream",
     "text": [
      "_________________________________________________________________\n",
      "Layer (type)                 Output Shape              Param #   \n",
      "=================================================================\n",
      "conv2d_1 (Conv2D)            (None, 64, 64, 16)        800       \n",
      "_________________________________________________________________\n",
      "conv2d_2 (Conv2D)            (None, 32, 32, 32)        25120     \n",
      "_________________________________________________________________\n",
      "max_pooling2d_1 (MaxPooling2 (None, 15, 15, 32)        0         \n",
      "_________________________________________________________________\n",
      "conv2d_3 (Conv2D)            (None, 15, 15, 64)        18496     \n",
      "_________________________________________________________________\n",
      "conv2d_4 (Conv2D)            (None, 15, 15, 96)        55392     \n",
      "_________________________________________________________________\n",
      "max_pooling2d_2 (MaxPooling2 (None, 7, 7, 96)          0         \n",
      "_________________________________________________________________\n",
      "conv2d_5 (Conv2D)            (None, 7, 7, 128)         110720    \n",
      "_________________________________________________________________\n",
      "conv2d_6 (Conv2D)            (None, 7, 7, 256)         295168    \n",
      "_________________________________________________________________\n",
      "conv2d_7 (Conv2D)            (None, 7, 7, 512)         1180160   \n",
      "_________________________________________________________________\n",
      "max_pooling2d_3 (MaxPooling2 (None, 3, 3, 512)         0         \n",
      "_________________________________________________________________\n",
      "flatten_1 (Flatten)          (None, 4608)              0         \n",
      "_________________________________________________________________\n",
      "dense_1 (Dense)              (None, 340)               1567060   \n",
      "=================================================================\n",
      "Total params: 3,252,916\n",
      "Trainable params: 3,252,916\n",
      "Non-trainable params: 0\n",
      "_________________________________________________________________\n"
     ]
    }
   ],
   "source": [
    "model = cnn_model()\n",
    "model.compile(loss=losses.categorical_crossentropy,\n",
    "              optimizer=optimizers.adam(lr=learning_rate, decay=0),\n",
    "              metrics=['accuracy'])\n",
    "model.summary()"
   ]
  },
  {
   "cell_type": "code",
   "execution_count": 10,
   "metadata": {},
   "outputs": [],
   "source": [
    "from keras import callbacks\n",
    "reduce_lr = callbacks.ReduceLROnPlateau(monitor='val_loss', factor=0.8,\n",
    "                              patience=1, min_lr=1e-4, verbose=1, min_delta=0.001)\n",
    "EarlyStopping = callbacks.EarlyStopping(monitor='val_loss', min_delta=0.001, patience=1, verbose=0, mode='auto', baseline=None, restore_best_weights=False)\n"
   ]
  },
  {
   "cell_type": "code",
   "execution_count": 28,
   "metadata": {},
   "outputs": [
    {
     "name": "stdout",
     "output_type": "stream",
     "text": [
      "Loaded model from disk\n"
     ]
    }
   ],
   "source": [
    "#load model\n",
    "from keras.models import model_from_json\n",
    "\n",
    "json_file = open('model.json', 'r')\n",
    "loaded_model_json = json_file.read()\n",
    "json_file.close()\n",
    "model = model_from_json(loaded_model_json)\n",
    "# load weights into new model\n",
    "model.load_weights(\"model.h5\")\n",
    "print(\"Loaded model from disk\")"
   ]
  },
  {
   "cell_type": "code",
   "execution_count": 30,
   "metadata": {},
   "outputs": [],
   "source": [
    "#compile loaded model\n",
    "model.compile(loss=losses.categorical_crossentropy,\n",
    "              optimizer=optimizers.adam(lr=learning_rate, decay=0),\n",
    "              metrics=['accuracy'])"
   ]
  },
  {
   "cell_type": "code",
   "execution_count": 31,
   "metadata": {},
   "outputs": [
    {
     "name": "stdout",
     "output_type": "stream",
     "text": [
      "chunk 417\n",
      "Train on 91539 samples, validate on 2260 samples\n",
      "Epoch 1/1\n",
      "91539/91539 [==============================] - 51s 558us/step - loss: 0.6759 - acc: 0.8013 - val_loss: 0.6676 - val_acc: 0.8066\n",
      "chunk 418\n",
      "Train on 91497 samples, validate on 2260 samples\n",
      "Epoch 1/1\n",
      "91497/91497 [==============================] - 49s 540us/step - loss: 0.6782 - acc: 0.8006 - val_loss: 0.6671 - val_acc: 0.8097\n",
      "chunk 419\n",
      "Train on 91602 samples, validate on 2260 samples\n",
      "Epoch 1/1\n",
      "91602/91602 [==============================] - 51s 562us/step - loss: 0.6844 - acc: 0.7997 - val_loss: 0.6669 - val_acc: 0.8111\n",
      "chunk 420\n",
      "Train on 91599 samples, validate on 2260 samples\n",
      "Epoch 1/1\n",
      "91599/91599 [==============================] - 51s 561us/step - loss: 0.6793 - acc: 0.8020 - val_loss: 0.6663 - val_acc: 0.8106\n",
      "chunk 421\n",
      "Train on 91459 samples, validate on 2260 samples\n",
      "Epoch 1/1\n",
      "91459/91459 [==============================] - 52s 565us/step - loss: 0.6861 - acc: 0.7974 - val_loss: 0.6661 - val_acc: 0.8088\n",
      "chunk 422\n",
      "Train on 91613 samples, validate on 2260 samples\n",
      "Epoch 1/1\n",
      "91613/91613 [==============================] - 50s 541us/step - loss: 0.6833 - acc: 0.8009 - val_loss: 0.6655 - val_acc: 0.8084\n",
      "chunk 423\n",
      "Train on 91474 samples, validate on 2260 samples\n",
      "Epoch 1/1\n",
      "91474/91474 [==============================] - 50s 549us/step - loss: 0.6761 - acc: 0.8026 - val_loss: 0.6636 - val_acc: 0.8106\n",
      "chunk 424\n",
      "Train on 91546 samples, validate on 2260 samples\n",
      "Epoch 1/1\n",
      "91546/91546 [==============================] - 49s 540us/step - loss: 0.6805 - acc: 0.8007 - val_loss: 0.6619 - val_acc: 0.8106\n",
      "chunk 425\n",
      "Train on 91526 samples, validate on 2260 samples\n",
      "Epoch 1/1\n",
      "91526/91526 [==============================] - 52s 567us/step - loss: 0.6763 - acc: 0.8004 - val_loss: 0.6600 - val_acc: 0.8133\n",
      "chunk 426\n",
      "Train on 91758 samples, validate on 2260 samples\n",
      "Epoch 1/1\n",
      "91758/91758 [==============================] - 50s 545us/step - loss: 0.6774 - acc: 0.8015 - val_loss: 0.6624 - val_acc: 0.8102\n",
      "chunk 427\n",
      "Train on 91498 samples, validate on 2260 samples\n",
      "Epoch 1/1\n",
      "91498/91498 [==============================] - 50s 549us/step - loss: 0.6747 - acc: 0.8011 - val_loss: 0.6613 - val_acc: 0.8133\n",
      "chunk 428\n",
      "Train on 91729 samples, validate on 2260 samples\n",
      "Epoch 1/1\n",
      "91729/91729 [==============================] - 50s 543us/step - loss: 0.6823 - acc: 0.8013 - val_loss: 0.6625 - val_acc: 0.8142\n",
      "chunk 429\n",
      "Train on 91637 samples, validate on 2260 samples\n",
      "Epoch 1/1\n",
      "91637/91637 [==============================] - 51s 560us/step - loss: 0.6834 - acc: 0.8021 - val_loss: 0.6632 - val_acc: 0.8102\n",
      "chunk 430\n",
      "Train on 91609 samples, validate on 2260 samples\n",
      "Epoch 1/1\n",
      "91609/91609 [==============================] - 49s 539us/step - loss: 0.6728 - acc: 0.8025 - val_loss: 0.6619 - val_acc: 0.8111\n",
      "chunk 431\n",
      "Train on 91617 samples, validate on 2260 samples\n",
      "Epoch 1/1\n",
      "91617/91617 [==============================] - 49s 540us/step - loss: 0.6721 - acc: 0.8021 - val_loss: 0.6628 - val_acc: 0.8066\n",
      "chunk 432\n",
      "Train on 91726 samples, validate on 2260 samples\n",
      "Epoch 1/1\n",
      "91726/91726 [==============================] - 50s 544us/step - loss: 0.6756 - acc: 0.8014 - val_loss: 0.6603 - val_acc: 0.8084\n",
      "chunk 433\n",
      "Train on 91516 samples, validate on 2260 samples\n",
      "Epoch 1/1\n",
      "91516/91516 [==============================] - 50s 550us/step - loss: 0.6721 - acc: 0.8032 - val_loss: 0.6621 - val_acc: 0.8119\n",
      "chunk 434\n",
      "Train on 91523 samples, validate on 2260 samples\n",
      "Epoch 1/1\n",
      "91523/91523 [==============================] - 51s 557us/step - loss: 0.6792 - acc: 0.8004 - val_loss: 0.6627 - val_acc: 0.8102\n",
      "chunk 435\n",
      "Train on 91474 samples, validate on 2260 samples\n",
      "Epoch 1/1\n",
      "91474/91474 [==============================] - 50s 549us/step - loss: 0.6822 - acc: 0.7983 - val_loss: 0.6615 - val_acc: 0.8111\n",
      "chunk 436\n",
      "Train on 91671 samples, validate on 2260 samples\n",
      "Epoch 1/1\n",
      "91671/91671 [==============================] - 50s 542us/step - loss: 0.6689 - acc: 0.8035 - val_loss: 0.6635 - val_acc: 0.8075\n",
      "chunk 437\n",
      "Train on 91580 samples, validate on 2260 samples\n",
      "Epoch 1/1\n",
      "91580/91580 [==============================] - 50s 549us/step - loss: 0.6759 - acc: 0.8011 - val_loss: 0.6623 - val_acc: 0.8088\n",
      "chunk 438\n",
      "Train on 91555 samples, validate on 2260 samples\n",
      "Epoch 1/1\n",
      "91555/91555 [==============================] - 49s 540us/step - loss: 0.6806 - acc: 0.8010 - val_loss: 0.6591 - val_acc: 0.8093\n",
      "chunk 439\n",
      "Train on 91549 samples, validate on 2260 samples\n",
      "Epoch 1/1\n",
      "91549/91549 [==============================] - 50s 549us/step - loss: 0.6775 - acc: 0.8007 - val_loss: 0.6596 - val_acc: 0.8137\n",
      "chunk 440\n",
      "Train on 91603 samples, validate on 2260 samples\n",
      "Epoch 1/1\n",
      "91603/91603 [==============================] - 49s 540us/step - loss: 0.6838 - acc: 0.7993 - val_loss: 0.6586 - val_acc: 0.8137\n",
      "chunk 441\n",
      "Train on 91603 samples, validate on 2260 samples\n",
      "Epoch 1/1\n",
      "91603/91603 [==============================] - 49s 540us/step - loss: 0.6843 - acc: 0.7997 - val_loss: 0.6602 - val_acc: 0.8115\n",
      "chunk 442\n",
      "Train on 91615 samples, validate on 2260 samples\n",
      "Epoch 1/1\n",
      "91615/91615 [==============================] - 49s 540us/step - loss: 0.6766 - acc: 0.8009 - val_loss: 0.6601 - val_acc: 0.8133\n",
      "chunk 443\n",
      "Train on 91602 samples, validate on 2260 samples\n",
      "Epoch 1/1\n",
      "91602/91602 [==============================] - 49s 539us/step - loss: 0.6745 - acc: 0.8027 - val_loss: 0.6591 - val_acc: 0.8137\n",
      "chunk 444\n",
      "Train on 91546 samples, validate on 2260 samples\n",
      "Epoch 1/1\n",
      "91546/91546 [==============================] - 50s 548us/step - loss: 0.6715 - acc: 0.8026 - val_loss: 0.6588 - val_acc: 0.8124\n",
      "chunk 445\n",
      "Train on 91362 samples, validate on 2260 samples\n",
      "Epoch 1/1\n",
      "91362/91362 [==============================] - 50s 550us/step - loss: 0.6759 - acc: 0.8020 - val_loss: 0.6576 - val_acc: 0.8119\n",
      "chunk 446\n",
      "Train on 91631 samples, validate on 2260 samples\n",
      "Epoch 1/1\n",
      "91631/91631 [==============================] - 51s 562us/step - loss: 0.6698 - acc: 0.8027 - val_loss: 0.6580 - val_acc: 0.8128\n",
      "chunk 447\n",
      "Train on 91581 samples, validate on 2260 samples\n",
      "Epoch 1/1\n",
      "91581/91581 [==============================] - 50s 550us/step - loss: 0.6735 - acc: 0.8028 - val_loss: 0.6606 - val_acc: 0.8111\n",
      "chunk 448\n",
      "Train on 91552 samples, validate on 2260 samples\n",
      "Epoch 1/1\n",
      "91552/91552 [==============================] - 49s 540us/step - loss: 0.6739 - acc: 0.8018 - val_loss: 0.6606 - val_acc: 0.8088\n",
      "chunk 449\n",
      "Train on 91656 samples, validate on 2260 samples\n",
      "Epoch 1/1\n",
      "91656/91656 [==============================] - 49s 539us/step - loss: 0.6774 - acc: 0.8023 - val_loss: 0.6602 - val_acc: 0.8080\n",
      "chunk 450\n",
      "Train on 91542 samples, validate on 2260 samples\n",
      "Epoch 1/1\n",
      "91542/91542 [==============================] - 50s 550us/step - loss: 0.6727 - acc: 0.8025 - val_loss: 0.6612 - val_acc: 0.8088\n",
      "chunk 451\n",
      "Train on 91472 samples, validate on 2260 samples\n",
      "Epoch 1/1\n",
      "91472/91472 [==============================] - 49s 539us/step - loss: 0.6761 - acc: 0.8008 - val_loss: 0.6597 - val_acc: 0.8119\n",
      "chunk 452\n",
      "Train on 91644 samples, validate on 2260 samples\n",
      "Epoch 1/1\n",
      "91644/91644 [==============================] - 52s 563us/step - loss: 0.6783 - acc: 0.8014 - val_loss: 0.6603 - val_acc: 0.8115\n",
      "chunk 453\n",
      "Train on 91543 samples, validate on 2260 samples\n",
      "Epoch 1/1\n",
      "91543/91543 [==============================] - 50s 549us/step - loss: 0.6748 - acc: 0.8025 - val_loss: 0.6581 - val_acc: 0.8102\n",
      "chunk 454\n",
      "Train on 91453 samples, validate on 2260 samples\n",
      "Epoch 1/1\n",
      "91453/91453 [==============================] - 51s 554us/step - loss: 0.6757 - acc: 0.8019 - val_loss: 0.6617 - val_acc: 0.8062\n",
      "chunk 455\n",
      "Train on 91439 samples, validate on 2260 samples\n",
      "Epoch 1/1\n",
      "91439/91439 [==============================] - 52s 563us/step - loss: 0.6741 - acc: 0.8023 - val_loss: 0.6624 - val_acc: 0.8084\n",
      "chunk 456\n",
      "Train on 91495 samples, validate on 2260 samples\n",
      "Epoch 1/1\n",
      "91495/91495 [==============================] - 51s 557us/step - loss: 0.6791 - acc: 0.8004 - val_loss: 0.6593 - val_acc: 0.8084\n",
      "chunk 457\n",
      "Train on 91633 samples, validate on 2260 samples\n",
      "Epoch 1/1\n",
      "91633/91633 [==============================] - 49s 540us/step - loss: 0.6704 - acc: 0.8015 - val_loss: 0.6606 - val_acc: 0.8088\n",
      "chunk 458\n",
      "Train on 91635 samples, validate on 2260 samples\n",
      "Epoch 1/1\n",
      "91635/91635 [==============================] - 49s 540us/step - loss: 0.6685 - acc: 0.8038 - val_loss: 0.6595 - val_acc: 0.8075\n",
      "chunk 459\n",
      "Train on 91623 samples, validate on 2260 samples\n",
      "Epoch 1/1\n",
      "91623/91623 [==============================] - 51s 562us/step - loss: 0.6567 - acc: 0.8058 - val_loss: 0.6590 - val_acc: 0.8115\n",
      "chunk 460\n",
      "Train on 91720 samples, validate on 2260 samples\n",
      "Epoch 1/1\n",
      "91720/91720 [==============================] - 50s 544us/step - loss: 0.6786 - acc: 0.8001 - val_loss: 0.6589 - val_acc: 0.8093\n",
      "chunk 461\n",
      "Train on 91516 samples, validate on 2260 samples\n",
      "Epoch 1/1\n",
      "91516/91516 [==============================] - 50s 549us/step - loss: 0.6766 - acc: 0.8018 - val_loss: 0.6583 - val_acc: 0.8093\n",
      "chunk 462\n",
      "Train on 91736 samples, validate on 2260 samples\n",
      "Epoch 1/1\n",
      "91736/91736 [==============================] - 50s 546us/step - loss: 0.6707 - acc: 0.8035 - val_loss: 0.6571 - val_acc: 0.8093\n",
      "chunk 463\n",
      "Train on 91616 samples, validate on 2260 samples\n",
      "Epoch 1/1\n",
      "91616/91616 [==============================] - 50s 540us/step - loss: 0.6780 - acc: 0.8013 - val_loss: 0.6582 - val_acc: 0.8093\n",
      "chunk 464\n",
      "Train on 91696 samples, validate on 2260 samples\n",
      "Epoch 1/1\n",
      "91696/91696 [==============================] - 50s 543us/step - loss: 0.6753 - acc: 0.8013 - val_loss: 0.6559 - val_acc: 0.8075\n",
      "chunk 465\n",
      "Train on 91474 samples, validate on 2260 samples\n",
      "Epoch 1/1\n",
      "91474/91474 [==============================] - 50s 550us/step - loss: 0.6738 - acc: 0.8019 - val_loss: 0.6571 - val_acc: 0.8102\n",
      "chunk 466\n",
      "Train on 91617 samples, validate on 2260 samples\n",
      "Epoch 1/1\n",
      "91617/91617 [==============================] - 49s 540us/step - loss: 0.6693 - acc: 0.8035 - val_loss: 0.6582 - val_acc: 0.8088\n",
      "chunk 467\n",
      "Train on 91420 samples, validate on 2260 samples\n",
      "Epoch 1/1\n",
      "91420/91420 [==============================] - 51s 563us/step - loss: 0.6755 - acc: 0.8011 - val_loss: 0.6587 - val_acc: 0.8093\n",
      "chunk 468\n",
      "Train on 91530 samples, validate on 2260 samples\n",
      "Epoch 1/1\n",
      "91530/91530 [==============================] - 49s 540us/step - loss: 0.6697 - acc: 0.8028 - val_loss: 0.6591 - val_acc: 0.8088\n",
      "chunk 469\n",
      "Train on 91501 samples, validate on 2260 samples\n",
      "Epoch 1/1\n",
      "91501/91501 [==============================] - 52s 566us/step - loss: 0.6769 - acc: 0.8016 - val_loss: 0.6573 - val_acc: 0.8106\n",
      "chunk 470\n",
      "Train on 91493 samples, validate on 2260 samples\n",
      "Epoch 1/1\n",
      "91493/91493 [==============================] - 51s 556us/step - loss: 0.6750 - acc: 0.8033 - val_loss: 0.6593 - val_acc: 0.8097\n",
      "chunk 471\n",
      "Train on 91675 samples, validate on 2260 samples\n",
      "Epoch 1/1\n",
      "91675/91675 [==============================] - 50s 542us/step - loss: 0.6697 - acc: 0.8034 - val_loss: 0.6586 - val_acc: 0.8062\n",
      "chunk 472\n",
      "Train on 91617 samples, validate on 2260 samples\n",
      "Epoch 1/1\n",
      "91617/91617 [==============================] - 50s 541us/step - loss: 0.6712 - acc: 0.8030 - val_loss: 0.6585 - val_acc: 0.8075\n",
      "chunk 473\n",
      "Train on 91476 samples, validate on 2260 samples\n",
      "Epoch 1/1\n",
      "91476/91476 [==============================] - 52s 566us/step - loss: 0.6807 - acc: 0.8009 - val_loss: 0.6585 - val_acc: 0.8133\n",
      "chunk 474\n",
      "Train on 91415 samples, validate on 2260 samples\n",
      "Epoch 1/1\n",
      "91415/91415 [==============================] - 51s 553us/step - loss: 0.6703 - acc: 0.8026 - val_loss: 0.6597 - val_acc: 0.8093\n",
      "chunk 475\n",
      "Train on 91620 samples, validate on 2260 samples\n",
      "Epoch 1/1\n",
      "91620/91620 [==============================] - 52s 563us/step - loss: 0.6671 - acc: 0.8032 - val_loss: 0.6595 - val_acc: 0.8071\n",
      "chunk 476\n",
      "Train on 91544 samples, validate on 2260 samples\n",
      "Epoch 1/1\n",
      "91544/91544 [==============================] - 50s 550us/step - loss: 0.6706 - acc: 0.8028 - val_loss: 0.6605 - val_acc: 0.8093\n",
      "chunk 477\n",
      "Train on 91358 samples, validate on 2260 samples\n",
      "Epoch 1/1\n",
      "91358/91358 [==============================] - 50s 550us/step - loss: 0.6763 - acc: 0.8035 - val_loss: 0.6592 - val_acc: 0.8097\n",
      "chunk 478\n",
      "Train on 91461 samples, validate on 2260 samples\n",
      "Epoch 1/1\n",
      "91461/91461 [==============================] - 50s 550us/step - loss: 0.6714 - acc: 0.8025 - val_loss: 0.6577 - val_acc: 0.8088\n",
      "chunk 479\n",
      "Train on 91607 samples, validate on 2260 samples\n",
      "Epoch 1/1\n",
      "91607/91607 [==============================] - 51s 562us/step - loss: 0.6749 - acc: 0.8029 - val_loss: 0.6577 - val_acc: 0.8088\n",
      "chunk 480\n",
      "Train on 91652 samples, validate on 2260 samples\n",
      "Epoch 1/1\n",
      "91652/91652 [==============================] - 50s 542us/step - loss: 0.6716 - acc: 0.8005 - val_loss: 0.6574 - val_acc: 0.8084\n",
      "chunk 481\n",
      "Train on 91636 samples, validate on 2260 samples\n",
      "Epoch 1/1\n",
      "91636/91636 [==============================] - 50s 541us/step - loss: 0.6762 - acc: 0.8024 - val_loss: 0.6584 - val_acc: 0.8111\n",
      "chunk 482\n",
      "Train on 91636 samples, validate on 2260 samples\n",
      "Epoch 1/1\n",
      "91636/91636 [==============================] - 50s 541us/step - loss: 0.6739 - acc: 0.8019 - val_loss: 0.6570 - val_acc: 0.8102\n",
      "chunk 483\n",
      "Train on 91584 samples, validate on 2260 samples\n",
      "Epoch 1/1\n",
      "91584/91584 [==============================] - 50s 549us/step - loss: 0.6699 - acc: 0.8045 - val_loss: 0.6553 - val_acc: 0.8119\n",
      "chunk 484\n",
      "Train on 91462 samples, validate on 2260 samples\n",
      "Epoch 1/1\n",
      "91462/91462 [==============================] - 51s 555us/step - loss: 0.6618 - acc: 0.8050 - val_loss: 0.6583 - val_acc: 0.8088\n",
      "chunk 485\n",
      "Train on 91479 samples, validate on 2260 samples\n",
      "Epoch 1/1\n",
      "91479/91479 [==============================] - 52s 565us/step - loss: 0.6664 - acc: 0.8037 - val_loss: 0.6572 - val_acc: 0.8075\n",
      "chunk 486\n",
      "Train on 91560 samples, validate on 2260 samples\n",
      "Epoch 1/1\n",
      "91560/91560 [==============================] - 49s 540us/step - loss: 0.6585 - acc: 0.8058 - val_loss: 0.6590 - val_acc: 0.8066\n",
      "chunk 487\n",
      "Train on 91420 samples, validate on 2260 samples\n",
      "Epoch 1/1\n",
      "91420/91420 [==============================] - 50s 549us/step - loss: 0.6618 - acc: 0.8054 - val_loss: 0.6582 - val_acc: 0.8080\n",
      "chunk 488\n",
      "Train on 91650 samples, validate on 2260 samples\n",
      "Epoch 1/1\n",
      "91650/91650 [==============================] - 50s 542us/step - loss: 0.6688 - acc: 0.8042 - val_loss: 0.6577 - val_acc: 0.8106\n",
      "chunk 489\n",
      "Train on 91739 samples, validate on 2260 samples\n",
      "Epoch 1/1\n",
      "91739/91739 [==============================] - 50s 545us/step - loss: 0.6752 - acc: 0.8029 - val_loss: 0.6577 - val_acc: 0.8093\n",
      "chunk 490\n",
      "Train on 91719 samples, validate on 2260 samples\n",
      "Epoch 1/1\n",
      "91719/91719 [==============================] - 50s 544us/step - loss: 0.6704 - acc: 0.8020 - val_loss: 0.6569 - val_acc: 0.8106\n",
      "chunk 491\n",
      "Train on 91519 samples, validate on 2260 samples\n",
      "Epoch 1/1\n",
      "91519/91519 [==============================] - 52s 566us/step - loss: 0.6683 - acc: 0.8025 - val_loss: 0.6565 - val_acc: 0.8084\n",
      "chunk 492\n",
      "Train on 91492 samples, validate on 2260 samples\n",
      "Epoch 1/1\n",
      "91492/91492 [==============================] - 49s 540us/step - loss: 0.6749 - acc: 0.8025 - val_loss: 0.6573 - val_acc: 0.8088\n",
      "chunk 493\n",
      "Train on 91464 samples, validate on 2260 samples\n",
      "Epoch 1/1\n",
      "91464/91464 [==============================] - 50s 550us/step - loss: 0.6733 - acc: 0.8017 - val_loss: 0.6578 - val_acc: 0.8093\n",
      "chunk 494\n",
      "Train on 91561 samples, validate on 2260 samples\n",
      "Epoch 1/1\n",
      "91561/91561 [==============================] - 49s 540us/step - loss: 0.6760 - acc: 0.8011 - val_loss: 0.6567 - val_acc: 0.8075\n",
      "chunk 495\n",
      "Train on 91548 samples, validate on 2260 samples\n",
      "Epoch 1/1\n",
      "91548/91548 [==============================] - 52s 569us/step - loss: 0.6662 - acc: 0.8038 - val_loss: 0.6561 - val_acc: 0.8093\n",
      "chunk 496\n",
      "Train on 91569 samples, validate on 2260 samples\n",
      "Epoch 1/1\n",
      "91569/91569 [==============================] - 49s 540us/step - loss: 0.6715 - acc: 0.8027 - val_loss: 0.6562 - val_acc: 0.8080\n",
      "chunk 497\n",
      "Train on 4696 samples, validate on 2260 samples\n",
      "Epoch 1/1\n",
      "4696/4696 [==============================] - 3s 673us/step - loss: 0.6959 - acc: 0.7966 - val_loss: 0.6567 - val_acc: 0.8080\n"
     ]
    }
   ],
   "source": [
    "chunks = pd.read_csv(all_data, usecols=[1,3,5,6], header=None, chunksize=chunksize, skiprows=num_val)\n",
    "dictionary_list = []\n",
    "\n",
    "#Decrease the epoch to 1 after 40 chunks, to expedite learning\n",
    "for i, chunk in enumerate(chunks):\n",
    "    if i < 40:\n",
    "        num_epochs = 10\n",
    "        \n",
    "    else:\n",
    "        num_epochs = 1\n",
    "    \n",
    "    print(\"chunk \" + str(i))\n",
    "    x_train, y_train = make_data_from_chunk(chunk, num_classes=num_classes)\n",
    "    model.fit(x_train, y_train,\n",
    "          batch_size=batch_size,\n",
    "          epochs=num_epochs,\n",
    "          verbose=1, callbacks=[EarlyStopping],\n",
    "          validation_data=(x_val, y_val), shuffle=False)\n",
    "    d = model.history.history\n",
    "    d = {k:v[0] for k,v in d.items() if k not in ['chunk_n', 'learning_rate']}\n",
    "    d1 = {\"chunk_n\": i, \"learning_rate\": learning_rate}\n",
    "    d.update(d1)\n",
    "    dictionary_list.append(d)"
   ]
  },
  {
   "cell_type": "code",
   "execution_count": 32,
   "metadata": {},
   "outputs": [
    {
     "name": "stdout",
     "output_type": "stream",
     "text": [
      "Saved model to disk\n"
     ]
    }
   ],
   "source": [
    "#save model\n",
    "model_json = model.to_json()\n",
    "with open(\"model.json\", \"w\") as json_file:\n",
    "    json_file.write(model_json)\n",
    "model.save_weights(\"model.h5\")\n",
    "print(\"Saved model to disk\")"
   ]
  },
  {
   "cell_type": "code",
   "execution_count": 33,
   "metadata": {},
   "outputs": [],
   "source": [
    "#writing result to csv\n",
    "df = pd.DataFrame(dictionary_list)\n",
    "df.to_csv('~/kaggle/cnn_lr0.001_ES_EpochReduceAfter40_4.csv', index=False)"
   ]
  },
  {
   "cell_type": "code",
   "execution_count": 34,
   "metadata": {},
   "outputs": [],
   "source": [
    "#Make a submission on Kaggle\n",
    "test_data='~/kaggle/data/test_simplified.csv'\n",
    "\n",
    "test_chunk = pd.read_csv(test_data)\n",
    "#chunk.columns = ['drawing', 'recognized', 'label_text','label']\n",
    "x_test = np.array([draw_it(v) for v in test_chunk['drawing'].values]).reshape(-1,imheight,imwidth,1)\n",
    "y_test = model.predict(x_test)"
   ]
  },
  {
   "cell_type": "code",
   "execution_count": 35,
   "metadata": {},
   "outputs": [
    {
     "data": {
      "text/html": [
       "<div>\n",
       "<style scoped>\n",
       "    .dataframe tbody tr th:only-of-type {\n",
       "        vertical-align: middle;\n",
       "    }\n",
       "\n",
       "    .dataframe tbody tr th {\n",
       "        vertical-align: top;\n",
       "    }\n",
       "\n",
       "    .dataframe thead th {\n",
       "        text-align: right;\n",
       "    }\n",
       "</style>\n",
       "<table border=\"1\" class=\"dataframe\">\n",
       "  <thead>\n",
       "    <tr style=\"text-align: right;\">\n",
       "      <th></th>\n",
       "      <th>key_id</th>\n",
       "      <th>countrycode</th>\n",
       "      <th>drawing</th>\n",
       "    </tr>\n",
       "  </thead>\n",
       "  <tbody>\n",
       "    <tr>\n",
       "      <th>0</th>\n",
       "      <td>9000003627287624</td>\n",
       "      <td>DE</td>\n",
       "      <td>[[[17, 18, 20, 25, 137, 174, 242, 249, 251, 25...</td>\n",
       "    </tr>\n",
       "    <tr>\n",
       "      <th>1</th>\n",
       "      <td>9000010688666847</td>\n",
       "      <td>UA</td>\n",
       "      <td>[[[174, 145, 106, 38, 11, 4, 4, 15, 29, 78, 16...</td>\n",
       "    </tr>\n",
       "    <tr>\n",
       "      <th>2</th>\n",
       "      <td>9000023642890129</td>\n",
       "      <td>BG</td>\n",
       "      <td>[[[0, 12, 14, 17, 16, 24, 55, 57, 60, 79, 82, ...</td>\n",
       "    </tr>\n",
       "    <tr>\n",
       "      <th>3</th>\n",
       "      <td>9000038588854897</td>\n",
       "      <td>US</td>\n",
       "      <td>[[[0, 9, 23, 40, 54, 60, 81, 105, 123, 167, 20...</td>\n",
       "    </tr>\n",
       "    <tr>\n",
       "      <th>4</th>\n",
       "      <td>9000052667981386</td>\n",
       "      <td>AR</td>\n",
       "      <td>[[[87, 82, 71, 63, 66, 92, 96, 95], [220, 218,...</td>\n",
       "    </tr>\n",
       "  </tbody>\n",
       "</table>\n",
       "</div>"
      ],
      "text/plain": [
       "             key_id countrycode  \\\n",
       "0  9000003627287624          DE   \n",
       "1  9000010688666847          UA   \n",
       "2  9000023642890129          BG   \n",
       "3  9000038588854897          US   \n",
       "4  9000052667981386          AR   \n",
       "\n",
       "                                             drawing  \n",
       "0  [[[17, 18, 20, 25, 137, 174, 242, 249, 251, 25...  \n",
       "1  [[[174, 145, 106, 38, 11, 4, 4, 15, 29, 78, 16...  \n",
       "2  [[[0, 12, 14, 17, 16, 24, 55, 57, 60, 79, 82, ...  \n",
       "3  [[[0, 9, 23, 40, 54, 60, 81, 105, 123, 167, 20...  \n",
       "4  [[[87, 82, 71, 63, 66, 92, 96, 95], [220, 218,...  "
      ]
     },
     "execution_count": 35,
     "metadata": {},
     "output_type": "execute_result"
    }
   ],
   "source": [
    "test_chunk.head()"
   ]
  },
  {
   "cell_type": "code",
   "execution_count": 36,
   "metadata": {},
   "outputs": [],
   "source": [
    "# map label number back to text\n",
    "mapping = pd.read_csv(all_data, nrows=5000, header=None)\n",
    "mapping_dict = dict(mapping[[6,5]].drop_duplicates().values)\n",
    "mapping_dict = {k:'_'.join(v.split()) for k,v in mapping_dict.items()}"
   ]
  },
  {
   "cell_type": "code",
   "execution_count": 19,
   "metadata": {},
   "outputs": [
    {
     "data": {
      "text/plain": [
       "340"
      ]
     },
     "execution_count": 19,
     "metadata": {},
     "output_type": "execute_result"
    }
   ],
   "source": [
    "len(mapping_dict)"
   ]
  },
  {
   "cell_type": "code",
   "execution_count": 37,
   "metadata": {},
   "outputs": [],
   "source": [
    "test_sorted = np.argsort(y_test)[:,337:340][:,::-1]\n",
    "df_test = pd.DataFrame(test_sorted)\n",
    "df_test = df_test.applymap(lambda x: mapping_dict[x])\n",
    "df_test['word'] = df_test[0] + ' ' + df_test[1] + ' ' + df_test[2]"
   ]
  },
  {
   "cell_type": "code",
   "execution_count": 38,
   "metadata": {},
   "outputs": [],
   "source": [
    "df_test['key_id'] = test_chunk['key_id']"
   ]
  },
  {
   "cell_type": "code",
   "execution_count": 39,
   "metadata": {},
   "outputs": [
    {
     "data": {
      "text/html": [
       "<div>\n",
       "<style scoped>\n",
       "    .dataframe tbody tr th:only-of-type {\n",
       "        vertical-align: middle;\n",
       "    }\n",
       "\n",
       "    .dataframe tbody tr th {\n",
       "        vertical-align: top;\n",
       "    }\n",
       "\n",
       "    .dataframe thead th {\n",
       "        text-align: right;\n",
       "    }\n",
       "</style>\n",
       "<table border=\"1\" class=\"dataframe\">\n",
       "  <thead>\n",
       "    <tr style=\"text-align: right;\">\n",
       "      <th></th>\n",
       "      <th>0</th>\n",
       "      <th>1</th>\n",
       "      <th>2</th>\n",
       "      <th>word</th>\n",
       "      <th>key_id</th>\n",
       "    </tr>\n",
       "  </thead>\n",
       "  <tbody>\n",
       "    <tr>\n",
       "      <th>0</th>\n",
       "      <td>radio</td>\n",
       "      <td>stereo</td>\n",
       "      <td>snorkel</td>\n",
       "      <td>radio stereo snorkel</td>\n",
       "      <td>9000003627287624</td>\n",
       "    </tr>\n",
       "    <tr>\n",
       "      <th>1</th>\n",
       "      <td>hockey_puck</td>\n",
       "      <td>bottlecap</td>\n",
       "      <td>pool</td>\n",
       "      <td>hockey_puck bottlecap pool</td>\n",
       "      <td>9000010688666847</td>\n",
       "    </tr>\n",
       "    <tr>\n",
       "      <th>2</th>\n",
       "      <td>The_Great_Wall_of_China</td>\n",
       "      <td>camel</td>\n",
       "      <td>castle</td>\n",
       "      <td>The_Great_Wall_of_China camel castle</td>\n",
       "      <td>9000023642890129</td>\n",
       "    </tr>\n",
       "    <tr>\n",
       "      <th>3</th>\n",
       "      <td>mountain</td>\n",
       "      <td>church</td>\n",
       "      <td>The_Eiffel_Tower</td>\n",
       "      <td>mountain church The_Eiffel_Tower</td>\n",
       "      <td>9000038588854897</td>\n",
       "    </tr>\n",
       "    <tr>\n",
       "      <th>4</th>\n",
       "      <td>fireplace</td>\n",
       "      <td>campfire</td>\n",
       "      <td>leaf</td>\n",
       "      <td>fireplace campfire leaf</td>\n",
       "      <td>9000052667981386</td>\n",
       "    </tr>\n",
       "  </tbody>\n",
       "</table>\n",
       "</div>"
      ],
      "text/plain": [
       "                         0          1                 2  \\\n",
       "0                    radio     stereo           snorkel   \n",
       "1              hockey_puck  bottlecap              pool   \n",
       "2  The_Great_Wall_of_China      camel            castle   \n",
       "3                 mountain     church  The_Eiffel_Tower   \n",
       "4                fireplace   campfire              leaf   \n",
       "\n",
       "                                   word            key_id  \n",
       "0                  radio stereo snorkel  9000003627287624  \n",
       "1            hockey_puck bottlecap pool  9000010688666847  \n",
       "2  The_Great_Wall_of_China camel castle  9000023642890129  \n",
       "3      mountain church The_Eiffel_Tower  9000038588854897  \n",
       "4               fireplace campfire leaf  9000052667981386  "
      ]
     },
     "execution_count": 39,
     "metadata": {},
     "output_type": "execute_result"
    }
   ],
   "source": [
    "df_test.head()"
   ]
  },
  {
   "cell_type": "code",
   "execution_count": 40,
   "metadata": {
    "scrolled": true
   },
   "outputs": [],
   "source": [
    "df_test[['key_id', 'word']].to_csv('test_output.csv', index=False)#df_test['word'] = df_test[[0,1,2]]"
   ]
  }
 ],
 "metadata": {
  "kernelspec": {
   "display_name": "Environment (conda_tensorflow_p36)",
   "language": "python",
   "name": "conda_tensorflow_p36"
  },
  "language_info": {
   "codemirror_mode": {
    "name": "ipython",
    "version": 3
   },
   "file_extension": ".py",
   "mimetype": "text/x-python",
   "name": "python",
   "nbconvert_exporter": "python",
   "pygments_lexer": "ipython3",
   "version": "3.6.5"
  }
 },
 "nbformat": 4,
 "nbformat_minor": 2
}
